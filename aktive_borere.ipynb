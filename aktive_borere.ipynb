{
 "cells": [
  {
   "cell_type": "code",
   "execution_count": 1,
   "metadata": {},
   "outputs": [],
   "source": [
    "import pandas as pd\n",
    "import numpy as np"
   ]
  },
  {
   "cell_type": "code",
   "execution_count": 8,
   "metadata": {},
   "outputs": [
    {
     "data": {
      "text/plain": [
       "7048   1900-01-01\n",
       "7251   1900-01-01\n",
       "5524   1900-01-01\n",
       "2170   1900-01-01\n",
       "1981   1900-01-01\n",
       "          ...    \n",
       "6657          NaT\n",
       "7697          NaT\n",
       "7849          NaT\n",
       "7850          NaT\n",
       "8657          NaT\n",
       "Name: boreDato, Length: 9598, dtype: datetime64[ns]"
      ]
     },
     "execution_count": 8,
     "metadata": {},
     "output_type": "execute_result"
    }
   ],
   "source": [
    "df = pd.read_excel(\"GrunnvannsBorehull_totalt.xlsx\", sheet_name=\"EnergiBrønn\",usecols='E,F,G')\n",
    "df = df.sort_values('boreDato')\n",
    "datokolonne = 2\n",
    "pd.to_datetime(df.iloc[:,datokolonne])"
   ]
  },
  {
   "cell_type": "code",
   "execution_count": 9,
   "metadata": {},
   "outputs": [],
   "source": [
    "def bronner_hvert_aar_borer(borer,aar):\n",
    "    #input:     borer:  Datasett med boredata for valgt oppdragstaker, bruk df for alle oppdragstakere\n",
    "    #           aar:    Året hvor man vil telle opp antall brønner i\n",
    "    #output:            Datasett med boredata for valgt oppdragstaker og valgt år\n",
    "    borer = borer.sort_values('boreDato')\n",
    "    datoer_borer = borer.iloc[:,datokolonne]\n",
    "    datoer_aar = [date for date in borer.iloc[:,datokolonne] if date.year == aar]\n",
    "    indeks_aar = []\n",
    "    for i in range(0,len(datoer_aar)):\n",
    "        hvor = np.where(datoer_borer == np.datetime64(datoer_aar[i]))\n",
    "        indeks_aar = np.concatenate((indeks_aar,hvor[0]))\n",
    "    if len(indeks_aar) >=1:\n",
    "        bronner_aar_borer = borer.iloc[int(indeks_aar[0]):int(indeks_aar[-1])+1,:]\n",
    "    else:\n",
    "        bronner_aar_borer = pd.DataFrame()\n",
    "    return bronner_aar_borer\n",
    "\n",
    "alle_2023 = bronner_hvert_aar_borer(df,2023)\n",
    "alle_2024 = bronner_hvert_aar_borer(df,2024)\n"
   ]
  },
  {
   "cell_type": "code",
   "execution_count": 11,
   "metadata": {},
   "outputs": [
    {
     "name": "stdout",
     "output_type": "stream",
     "text": [
      "0                             ABE BORING AS\n",
      "1                       Ango Brønnboring AS\n",
      "2     Anleggsdrift brønn og energiboring AS\n",
      "3             Aqua Brønn og Energiboring as\n",
      "4             Asker og Bærum Brønnboring AS\n",
      "                      ...                  \n",
      "57                        Værås Brønnboring\n",
      "58                        WB Brønnboring AS\n",
      "59       ØSTLANDET BRØNN OG ENERGIBORING AS\n",
      "60                   Østfold Brønnboring AS\n",
      "61      Østlandet brønn- og energiboring as\n",
      "Name: oppdragstaker, Length: 62, dtype: object\n"
     ]
    }
   ],
   "source": [
    "unike_2023 = alle_2023.drop_duplicates(subset='oppdragstaker')\n",
    "unike_2023 = unike_2023.iloc[:,1]\n",
    "unike_2023 = unike_2023.sort_values()\n",
    "unike_2023 = unike_2023.reset_index()\n",
    "unike_2023 = unike_2023.iloc[:,1]\n",
    "\n",
    "unike_2024 = alle_2024.drop_duplicates(subset='oppdragstaker')\n",
    "unike_2024 = unike_2024.iloc[:,1]\n",
    "unike_2024 = unike_2024.sort_values()\n",
    "unike_2024 = unike_2024.reset_index()\n",
    "unike_2024 = unike_2024.iloc[:,1]\n",
    "\n",
    "#print(unike_2024)\n",
    "\n",
    "unike_totalt = df.drop_duplicates(subset='oppdragstaker')\n",
    "unike_totalt = unike_totalt.iloc[:,1]\n",
    "unike_totalt = unike_totalt.sort_values()\n",
    "unike_totalt = unike_totalt.reset_index(drop=True)\n",
    "print(unike_totalt)\n"
   ]
  },
  {
   "cell_type": "code",
   "execution_count": 12,
   "metadata": {},
   "outputs": [],
   "source": [
    "antall_2023 = []\n",
    "antall_2024 = []\n",
    "for i in unike_2023:\n",
    "    antall_2023.append(len(alle_2023[alle_2023['oppdragstaker'].str.contains(str(i))]))\n",
    "    antall_2024.append(len(alle_2024[alle_2024['oppdragstaker'].str.contains(str(i))]))\n",
    "antall_2023 = pd.DataFrame({'Totalt antall brønner i 2023': antall_2023})\n",
    "antall_2024 = pd.DataFrame({'Totalt antall brønner i 2024': antall_2024})\n",
    "\n",
    "\n",
    "antall_enkelthusholdning_2023 = []\n",
    "antall_storre_anlegg_2023 = []\n",
    "antall_andre_anlegg_2023 = []\n",
    "for j in unike_2023:\n",
    "    hver_borer = alle_2023[alle_2023['oppdragstaker'].str.contains(str(j))]\n",
    "    antall_enkelthusholdning_2023.append(len(hver_borer[hver_borer['brønnBrukOmfang'].str.contains('Enkelthusholdning')]))\n",
    "    antall_storre_anlegg_2023.append(len(hver_borer[hver_borer['brønnBrukOmfang'].str.contains('Større anlegg')]))\n",
    "    antall_andre_anlegg_2023.append(len(hver_borer[hver_borer['brønnBrukOmfang'].str.contains('|'.join(['Gårdsbruk', 'Hytte/fritidsbolig', 'Turistnæring', 'Ukjent']))]))\n",
    "\n",
    "antall_enkelthusholdning_2023 = pd.DataFrame({'Antall brønner for enkelthusholdning i 2023': antall_enkelthusholdning_2023})\n",
    "antall_storre_anlegg_2023 = pd.DataFrame({'Antall brønner i større anlegg i 2023': antall_storre_anlegg_2023})\n",
    "antall_andre_anlegg_2023 = pd.DataFrame({'Antall brønner i andre typer anlegg i 2023': antall_andre_anlegg_2023})"
   ]
  },
  {
   "cell_type": "code",
   "execution_count": 13,
   "metadata": {},
   "outputs": [],
   "source": [
    "ferdig = pd.concat([unike_2023,antall_2023,antall_2024,antall_enkelthusholdning_2023,antall_storre_anlegg_2023,antall_andre_anlegg_2023],axis=1)\n",
    "ferdig = ferdig.sort_values('Totalt antall brønner i 2024', ascending=False)\n",
    "ferdig.to_excel('Aktive_bronnborere_24.xlsx')"
   ]
  },
  {
   "cell_type": "code",
   "execution_count": 14,
   "metadata": {},
   "outputs": [],
   "source": [
    "antall_totalt = []\n",
    "for i in unike_totalt:\n",
    "    antall_totalt.append(len(df[df['oppdragstaker'].str.contains(str(i))]))\n",
    "antall_totalt = pd.DataFrame({'Totalt antall brønner i totalt': antall_totalt})\n",
    "\n",
    "ferdig = pd.concat([unike_totalt,antall_totalt],axis=1)\n",
    "ferdig = ferdig.sort_values('Totalt antall brønner i totalt', ascending=False)\n",
    "#ferdig.to_excel('Aktive_bronnborere_totalt.xlsx')"
   ]
  },
  {
   "cell_type": "code",
   "execution_count": null,
   "metadata": {},
   "outputs": [],
   "source": []
  }
 ],
 "metadata": {
  "kernelspec": {
   "display_name": "Python 3",
   "language": "python",
   "name": "python3"
  },
  "language_info": {
   "codemirror_mode": {
    "name": "ipython",
    "version": 3
   },
   "file_extension": ".py",
   "mimetype": "text/x-python",
   "name": "python",
   "nbconvert_exporter": "python",
   "pygments_lexer": "ipython3",
   "version": "3.11.3"
  },
  "orig_nbformat": 4
 },
 "nbformat": 4,
 "nbformat_minor": 2
}
