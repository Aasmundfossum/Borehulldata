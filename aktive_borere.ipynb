{
 "cells": [
  {
   "cell_type": "code",
   "execution_count": 40,
   "metadata": {},
   "outputs": [],
   "source": [
    "import pandas as pd\n",
    "import numpy as np"
   ]
  },
  {
   "cell_type": "code",
   "execution_count": 41,
   "metadata": {},
   "outputs": [
    {
     "data": {
      "text/plain": [
       "35099   1900-01-01\n",
       "28004   1900-01-01\n",
       "24489   1900-01-01\n",
       "5095    1900-01-01\n",
       "23840   1900-01-01\n",
       "           ...    \n",
       "36713          NaT\n",
       "38215          NaT\n",
       "39069          NaT\n",
       "41600          NaT\n",
       "50360          NaT\n",
       "Name: boreDato, Length: 54730, dtype: datetime64[ns]"
      ]
     },
     "execution_count": 41,
     "metadata": {},
     "output_type": "execute_result"
    }
   ],
   "source": [
    "df = pd.read_excel(\"GrunnvannsBorehull.xlsx\", sheet_name=\"EnergiBrønn\",usecols='E,F,G')\n",
    "df = df.sort_values('boreDato')\n",
    "datokolonne = 2\n",
    "pd.to_datetime(df.iloc[:,datokolonne])"
   ]
  },
  {
   "cell_type": "code",
   "execution_count": 42,
   "metadata": {},
   "outputs": [],
   "source": [
    "def bronner_hvert_aar_borer(borer,aar):\n",
    "    #input:     borer:  Datasett med boredata for valgt oppdragstaker, bruk df for alle oppdragstakere\n",
    "    #           aar:    Året hvor man vil telle opp antall brønner i\n",
    "    #output:            Datasett med boredata for valgt oppdragstaker og valgt år\n",
    "    borer = borer.sort_values('boreDato')\n",
    "    datoer_borer = borer.iloc[:,datokolonne]\n",
    "    datoer_aar = [date for date in borer.iloc[:,datokolonne] if date.year == aar]\n",
    "    indeks_aar = []\n",
    "    for i in range(0,len(datoer_aar)):\n",
    "        hvor = np.where(datoer_borer == np.datetime64(datoer_aar[i]))\n",
    "        indeks_aar = np.concatenate((indeks_aar,hvor[0]))\n",
    "    if len(indeks_aar) >=1:\n",
    "        bronner_aar_borer = borer.iloc[int(indeks_aar[0]):int(indeks_aar[-1])+1,:]\n",
    "    else:\n",
    "        bronner_aar_borer = pd.DataFrame()\n",
    "    return bronner_aar_borer\n",
    "\n",
    "alle_2022 = bronner_hvert_aar_borer(df,2022)\n",
    "alle_2023 = bronner_hvert_aar_borer(df,2023)"
   ]
  },
  {
   "cell_type": "code",
   "execution_count": 43,
   "metadata": {},
   "outputs": [
    {
     "name": "stdout",
     "output_type": "stream",
     "text": [
      "0                            ABE BORING AS\n",
      "1                               BORTECH AS\n",
      "2          BRÅTEN BRØNN OG ENERGIBORING AS\n",
      "3                            BY OG BYGD AS\n",
      "4                 Brustugun Brønnboring as\n",
      "5                       Brødrene Myhre A/S\n",
      "6        Brønn og Energiboring Buskerud AS\n",
      "7                         Båsum Boring A.S\n",
      "8                Båsum Boring Trøndelag AS\n",
      "9                    Edland Brønnboring as\n",
      "10                    FOSEN BRØNNBORING AS\n",
      "11                  Fetveit Brønnboring AS\n",
      "12                  Fimreite Bergboring AS\n",
      "13               Fjellheim Brønnboring A/S\n",
      "14                    Follo brønnboring AS\n",
      "15                              GEOTECH AS\n",
      "16                        HITECH ENERGY AS\n",
      "17                           HYDRODRILL AS\n",
      "18                  Haugrud Brønnboring AS\n",
      "19    Hålogaland Brønn- og Energiboring AS\n",
      "20      Innlandet Brønn og Energiboring as\n",
      "21                   Jensen Brønnboring AS\n",
      "22                             KIVIJOKI AS\n",
      "23                 Kaugerud Brønnboring as\n",
      "24          Kraft Energi og brønnboring AS\n",
      "25          MYHRE BRØNN OG ENERGIBORING AS\n",
      "26                     NORD BRØNNBORING AS\n",
      "27                    NORSK BRØNNBORING AS\n",
      "28             Nemo Brønnboring & MaskinAS\n",
      "29         Nordenfjeldske Brønnboringer as\n",
      "30               Norra Dals Brunnsborrning\n",
      "31                    Norsk boreteknikk as\n",
      "32                  Norsk spesialboring AS\n",
      "33                          RH Brønnboring\n",
      "34                              ROTOTEC AS\n",
      "35                 SEABROKERS GEOENERGI AS\n",
      "36                        Sartor Maskin AS\n",
      "37                     SØR-NORSK BORING AS\n",
      "38                Sørlandet Brønnboring as\n",
      "39                Trøndelag brønnboring AS\n",
      "40                  Valdres Brønnboring AS\n",
      "41                Vestnorsk Brunnboring As\n",
      "42                Vestviken Brønnboring AS\n",
      "43                       Værås Brønnboring\n",
      "44                       WB Brønnboring AS\n",
      "45                  Østfold Brønnboring AS\n",
      "Name: oppdragstaker, dtype: object\n"
     ]
    }
   ],
   "source": [
    "unike_2022 = alle_2022.drop_duplicates(subset='oppdragstaker')\n",
    "unike_2022 = unike_2022.iloc[:,1]\n",
    "unike_2022 = unike_2022.sort_values()\n",
    "unike_2022 = unike_2022.reset_index()\n",
    "unike_2022 = unike_2022.iloc[:,1]\n",
    "\n",
    "unike_2023 = alle_2023.drop_duplicates(subset='oppdragstaker')\n",
    "unike_2023 = unike_2023.iloc[:,1]\n",
    "unike_2023 = unike_2023.sort_values()\n",
    "unike_2023 = unike_2023.reset_index()\n",
    "unike_2023 = unike_2023.iloc[:,1]\n",
    "\n",
    "print(unike_2023)"
   ]
  },
  {
   "cell_type": "code",
   "execution_count": 44,
   "metadata": {},
   "outputs": [],
   "source": [
    "antall_2022 = []\n",
    "antall_2023 = []\n",
    "for i in unike_2023:\n",
    "    antall_2022.append(len(alle_2022[alle_2022['oppdragstaker'].str.contains(str(i))]))\n",
    "    antall_2023.append(len(alle_2023[alle_2023['oppdragstaker'].str.contains(str(i))]))\n",
    "antall_2022 = pd.DataFrame({'Totalt antall brønner i 2022': antall_2022})\n",
    "antall_2023 = pd.DataFrame({'Totalt antall brønner i 2023': antall_2023})\n",
    "\n",
    "antall_enkelthusholdning_2023 = []\n",
    "antall_storre_anlegg_2023 = []\n",
    "antall_andre_anlegg_2023 = []\n",
    "for j in unike_2023:\n",
    "    hver_borer = alle_2023[alle_2023['oppdragstaker'].str.contains(str(j))]\n",
    "    antall_enkelthusholdning_2023.append(len(hver_borer[hver_borer['brønnBrukOmfang'].str.contains('Enkelthusholdning')]))\n",
    "    antall_storre_anlegg_2023.append(len(hver_borer[hver_borer['brønnBrukOmfang'].str.contains('Større anlegg')]))\n",
    "    antall_andre_anlegg_2023.append(len(hver_borer[hver_borer['brønnBrukOmfang'].str.contains('|'.join(['Gårdsbruk', 'Hytte/fritidsbolig', 'Turistnæring', 'Ukjent']))]))\n",
    "\n",
    "antall_enkelthusholdning_2023 = pd.DataFrame({'Antall brønner for enkelthusholdning i 2023': antall_enkelthusholdning_2023})\n",
    "antall_storre_anlegg_2023 = pd.DataFrame({'Antall brønner i større anlegg i 2023': antall_storre_anlegg_2023})\n",
    "antall_andre_anlegg_2023 = pd.DataFrame({'Antall brønner i andre typer anlegg i 2023': antall_andre_anlegg_2023})"
   ]
  },
  {
   "cell_type": "code",
   "execution_count": 45,
   "metadata": {},
   "outputs": [],
   "source": [
    "ferdig = pd.concat([unike_2023,antall_2022,antall_2023,antall_enkelthusholdning_2023,antall_storre_anlegg_2023,antall_andre_anlegg_2023],axis=1)\n",
    "ferdig = ferdig.sort_values('Totalt antall brønner i 2023', ascending=False)\n",
    "ferdig.to_excel('Aktive_bronnborere.xlsx')"
   ]
  }
 ],
 "metadata": {
  "kernelspec": {
   "display_name": "Python 3",
   "language": "python",
   "name": "python3"
  },
  "language_info": {
   "codemirror_mode": {
    "name": "ipython",
    "version": 3
   },
   "file_extension": ".py",
   "mimetype": "text/x-python",
   "name": "python",
   "nbconvert_exporter": "python",
   "pygments_lexer": "ipython3",
   "version": "3.11.3"
  },
  "orig_nbformat": 4
 },
 "nbformat": 4,
 "nbformat_minor": 2
}
